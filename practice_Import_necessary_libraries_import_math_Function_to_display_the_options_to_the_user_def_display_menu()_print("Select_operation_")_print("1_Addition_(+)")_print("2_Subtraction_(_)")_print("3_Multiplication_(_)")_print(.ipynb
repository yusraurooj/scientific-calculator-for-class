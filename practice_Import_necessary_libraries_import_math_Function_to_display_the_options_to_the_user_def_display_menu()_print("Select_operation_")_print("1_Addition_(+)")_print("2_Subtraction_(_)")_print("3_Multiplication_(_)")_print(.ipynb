{
  "nbformat": 4,
  "nbformat_minor": 0,
  "metadata": {
    "colab": {
      "provenance": [],
      "authorship_tag": "ABX9TyOgl80rr/TEVaMxMRNeqcaX",
      "include_colab_link": true
    },
    "kernelspec": {
      "name": "python3",
      "display_name": "Python 3"
    },
    "language_info": {
      "name": "python"
    }
  },
  "cells": [
    {
      "cell_type": "markdown",
      "metadata": {
        "id": "view-in-github",
        "colab_type": "text"
      },
      "source": [
        "<a href=\"https://colab.research.google.com/github/yusraurooj/scientific-calculator-for-class/blob/main/practice_Import_necessary_libraries_import_math_Function_to_display_the_options_to_the_user_def_display_menu()_print(%22Select_operation_%22)_print(%221_Addition_(%2B)%22)_print(%222_Subtraction_(_)%22)_print(%223_Multiplication_(_)%22)_print(.ipynb\" target=\"_parent\"><img src=\"https://colab.research.google.com/assets/colab-badge.svg\" alt=\"Open In Colab\"/></a>"
      ]
    },
    {
      "cell_type": "code",
      "execution_count": null,
      "metadata": {
        "colab": {
          "base_uri": "https://localhost:8080/"
        },
        "id": "-etQatIPe_P3",
        "outputId": "4b722665-ead3-44c8-98ed-41913ea64491"
      },
      "outputs": [
        {
          "metadata": {
            "tags": null
          },
          "name": "stdout",
          "output_type": "stream",
          "text": [
            "Select operation:\n",
            "1. Addition (+)\n",
            "2. Subtraction (-)\n",
            "3. Multiplication (*)\n",
            "4. Division (/)\n",
            "5. Exponentiation (^)\n",
            "6. Square root (√)\n",
            "7. Logarithm (log)\n",
            "8. Sine (sin)\n",
            "9. Cosine (cos)\n",
            "10. Tangent (tan)\n",
            "11. Exit\n",
            "2.0 * 3.0 = 6.0\n",
            "Select operation:\n",
            "1. Addition (+)\n",
            "2. Subtraction (-)\n",
            "3. Multiplication (*)\n",
            "4. Division (/)\n",
            "5. Exponentiation (^)\n",
            "6. Square root (√)\n",
            "7. Logarithm (log)\n",
            "8. Sine (sin)\n",
            "9. Cosine (cos)\n",
            "10. Tangent (tan)\n",
            "11. Exit\n",
            "√7.0 = 2.6457513110645907\n",
            "Select operation:\n",
            "1. Addition (+)\n",
            "2. Subtraction (-)\n",
            "3. Multiplication (*)\n",
            "4. Division (/)\n",
            "5. Exponentiation (^)\n",
            "6. Square root (√)\n",
            "7. Logarithm (log)\n",
            "8. Sine (sin)\n",
            "9. Cosine (cos)\n",
            "10. Tangent (tan)\n",
            "11. Exit\n"
          ]
        }
      ],
      "source": [
        "# Import necessary libraries\n",
        "import math\n",
        "\n",
        "# Function to display the options to the user\n",
        "def display_menu():\n",
        "    print(\"Select operation:\")\n",
        "    print(\"1. Addition (+)\")\n",
        "    print(\"2. Subtraction (-)\")\n",
        "    print(\"3. Multiplication (*)\")\n",
        "    print(\"4. Division (/)\")\n",
        "    print(\"5. Exponentiation (^)\")\n",
        "    print(\"6. Square root (√)\")\n",
        "    print(\"7. Logarithm (log)\")\n",
        "    print(\"8. Sine (sin)\")\n",
        "    print(\"9. Cosine (cos)\")\n",
        "    print(\"10. Tangent (tan)\")\n",
        "    print(\"11. Exit\")\n",
        "\n",
        "# Function to perform the selected operation\n",
        "def scientific_calculator():\n",
        "    while True:\n",
        "        display_menu()\n",
        "\n",
        "        # Take input from the user\n",
        "        choice = input(\"Enter choice(1-11): \")\n",
        "\n",
        "        # If the user wants to exit\n",
        "        if choice == '11':\n",
        "            print(\"Exiting the calculator.\")\n",
        "            break\n",
        "\n",
        "        if choice in ['1', '2', '3', '4', '5']:\n",
        "            num1 = float(input(\"Enter first number: \"))\n",
        "            num2 = float(input(\"Enter second number: \"))\n",
        "\n",
        "            if choice == '1':\n",
        "                print(f\"{num1} + {num2} = {num1 + num2}\")\n",
        "            elif choice == '2':\n",
        "                print(f\"{num1} - {num2} = {num1 - num2}\")\n",
        "            elif choice == '3':\n",
        "                print(f\"{num1} * {num2} = {num1 * num2}\")\n",
        "            elif choice == '4':\n",
        "                if num2 != 0:\n",
        "                    print(f\"{num1} / {num2} = {num1 / num2}\")\n",
        "                else:\n",
        "                    print(\"Error! Division by zero.\")\n",
        "            elif choice == '5':\n",
        "                print(f\"{num1} ^ {num2} = {num1 ** num2}\")\n",
        "\n",
        "        elif choice == '6':\n",
        "            num = float(input(\"Enter number: \"))\n",
        "            if num >= 0:\n",
        "                print(f\"√{num} = {math.sqrt(num)}\")\n",
        "            else:\n",
        "                print(\"Error! Square root of negative number.\")\n",
        "\n",
        "        elif choice == '7':\n",
        "            num = float(input(\"Enter number: \"))\n",
        "            if num > 0:\n",
        "                print(f\"log({num}) = {math.log(num)}\")\n",
        "            else:\n",
        "                print(\"Error! Logarithm of non-positive number.\")\n",
        "\n",
        "        elif choice in ['8', '9', '10']:\n",
        "            angle = float(input(\"Enter angle in degrees: \"))\n",
        "            radians = math.radians(angle)\n",
        "\n",
        "            if choice == '8':\n",
        "                print(f\"sin({angle}°) = {math.sin(radians)}\")\n",
        "            elif choice == '9':\n",
        "                print(f\"cos({angle}°) = {math.cos(radians)}\")\n",
        "            elif choice == '10':\n",
        "                print(f\"tan({angle}°) = {math.tan(radians)}\")\n",
        "\n",
        "        else:\n",
        "            print(\"Invalid input\")\n",
        "\n",
        "# Run the calculator\n",
        "scientific_calculator()\n"
      ]
    }
  ]
}